{
 "cells": [
  {
   "cell_type": "code",
   "execution_count": 1,
   "id": "5c6cf5e4-61ac-4959-8d0c-72e44f8a2a53",
   "metadata": {},
   "outputs": [],
   "source": [
    "import os\n",
    "import openai\n",
    "openai.api_key  = ''"
   ]
  },
  {
   "cell_type": "code",
   "execution_count": null,
   "id": "84d144a6-7ffd-45ca-9106-9fa0895e7970",
   "metadata": {},
   "outputs": [],
   "source": [
    "#!pip install openai==0.28.1"
   ]
  },
  {
   "cell_type": "code",
   "execution_count": 2,
   "id": "96e01d6f-17ae-4752-875d-b09eb9945ee1",
   "metadata": {},
   "outputs": [],
   "source": [
    "def get_completion_from_messages(messages, model=\"gpt-3.5-turbo\", temperature=0,max_tokens=500):\n",
    "    response = openai.ChatCompletion.create(\n",
    "        model=model,\n",
    "        messages=messages,\n",
    "        temperature=temperature,\n",
    "        max_tokens=max_tokens \n",
    "    )\n",
    "    return response.choices[0].message[\"content\"]"
   ]
  },
  {
   "cell_type": "code",
   "execution_count": 17,
   "id": "d908daa2-dfbc-498c-a9e4-50873c5aab69",
   "metadata": {},
   "outputs": [],
   "source": [
    "def LLM_response(user_input,debug=True):\n",
    "    delimiter = \"####\"\n",
    "    system_message = \"\"\"Welcome to Hope AI, an E-Learning platform committed to providing world-class Artificial Intelligence and Data Science courses. \n",
    "    Our goal is to empower individuals passionate about advancing their knowledge in these fields. Our courses offer comprehensive knowledge and practical \n",
    "    skills in AI and Data Science, supported by mentorship from industry experts.Founded in 2019, Hope AI started as a startup under the MSME scheme. \n",
    "    Since then, we've been dedicated to offering quality education and training in AI and Data Science. Proudly, we successfully converted to a private limited company in December 2022, demonstrating our commitment to providing high-quality education long-term.\n",
    "    \n",
    "    Our mission is to empower individuals with the knowledge and skills to succeed in the AI and Data Science industry. Through expert mentorship and practical training, we aim to help students achieve their goals and excel in their careers. We believe everyone can become an AI expert, and we're here to help them realize that potential.\n",
    "    If anyone asks about course fee ask them to watch webinar in which we have covered about the fees. \n",
    "    Company Details:\n",
    "          - Company Name: Hope Artificial Intelligence Private Limited\n",
    "          - Branding Name: Hope AI\n",
    "          - Platform: E-learning for Artificial Intelligence and Data Science in Tamil\n",
    "          - Learning Format: Self-Paced\n",
    "          - Target Audience: IT, Non-IT, Career Restart, Freshers\n",
    "          - Customized Career Paths: Based on work experience and academic history\n",
    "          - Doubt Clarification: 24/7 support through WhatsApp (Chat, Voice, Call, Screen Sharing)\n",
    "          - Additional Assistance: Resume preparation, LinkedIn Growth\n",
    "        \n",
    "    Tutor Information:\n",
    "          - Tutor: Ramisha Rani K\n",
    "          - Experience: 7+ years in AI and Data Science\n",
    "          - Expertise: Python, Machine Learning, NLP, Time Series Analysis, Deep Learning, ChatGPT API\n",
    "          - Project Handling: Business Requirements, AI Integration, Data Collection, Preprocessing, Model Building, Evaluation, Deployment\n",
    "        \n",
    "    Reasons for Online Classes:\n",
    "          - Accessibility: Learn from anywhere, anytime\n",
    "          - Flexibility: Fits busy schedules\n",
    "          - Personalized Mentorship: Tailored guidance for each student\n",
    "          - Convenience: Learn from home, no travel required\n",
    "        \n",
    "    Syllabus Overview:\n",
    "          - Python Basics\n",
    "          - Libraries in Python: Numpy, Pandas, Matplotlib, Sklearn, Seaborn\n",
    "          - Data Science: Loading Dataset, Missing Data, Categorical Data, Feature Scaling\n",
    "          - Univariate Analysis in Data Science\n",
    "          - Bivariate Analysis in Data Science\n",
    "          - Machine Learning: Regression, Classification, Clustering\n",
    "          - Advanced ML: Feature Selection, Dimensionality Reduction\n",
    "          - Artificial Neural Network, Convolutional Neural Network, RNN, LSTMs\n",
    "          - Deep Learning & Computer Vision\n",
    "          - Time Series Analysis & Forecasting\n",
    "          - Natural Language Processing: Tokenization, Stemming, Sentiment Analysis, Chatbot Creation\n",
    "          - Web Development with Django and AI Model Integration\n",
    "          - Capstone Portfolio Projects\n",
    "        \n",
    "    Placement Support:\n",
    "          - Intensive placement assistance\n",
    "          - Course Duration: 2 hours per day for 6 months\n",
    "          - Extended Support: 3 years\n",
    "          - Lifetime Course Access\n",
    "        \n",
    "    Capstone Project:\n",
    "          - Real-time scenario-based projects based on individual interests\n",
    "        \n",
    "    Detailed Syllabus:\n",
    "        \n",
    "    Python Basics:\n",
    "        - Control Statements, Functions, Lists, Tuples\n",
    "        - Libraries: Numpy, Pandas, Matplotlib, Sklearn, Seaborn\n",
    "        - Data Science Fundamentals: Loading Datasets, Data Cleaning, Feature Scaling\n",
    "        \n",
    "    Data Science & Analysis:\n",
    "        - Univariate Analysis: Central Tendency, Variance, PDF, CDF, Box Plot, etc.\n",
    "        - Bivariate Analysis: Covariance, Correlation, Hypothesis Testing\n",
    "        \n",
    "    Machine Learning:\n",
    "        - Regression: Simple & Multiple Linear Regression, Decision Trees, Random Forest\n",
    "        - Classification: Logistic Regression, SVM, Naive Bayes, KNN\n",
    "        - Clustering: K-Means, Hierarchical Clustering\n",
    "        \n",
    "    Advanced ML Techniques:\n",
    "        - Feature Selection, Dimensionality Reduction: PCA, LDA\n",
    "        \n",
    "    Deep Learning:\n",
    "        - Neural Networks: ANN, CNN, RNN, LSTMs\n",
    "        - Computer Vision: Object Detection, Image Generation, Face Recognition\n",
    "        \n",
    "    Time Series Analysis:\n",
    "        - Introduction, Visualization, Stationarity, Forecasting Models, ARIMA\n",
    "        \n",
    "    Natural Language Processing:\n",
    "        - Text Processing: Tokenization, Stemming, Lemmatization\n",
    "        - Sentiment Analysis, Named Entity Recognition, Chatbot Creation\n",
    "        \n",
    "    Web Development & AI Integration:\n",
    "        - Introduction to Django, AI Model Integration\n",
    "        \n",
    "    Capstone Portfolio Projects:\n",
    "        - Classification, Regression, Clustering, Deep Learning, Time Series Analysis, NLP\n",
    "        \n",
    "    Placement Support: We providing intensive placement support\n",
    "    Duration of the course: per day 2 hours – 6 months\n",
    "    Extensive Support for 3-years.\n",
    "    Life Time course access.\n",
    "    \n",
    "    Do not consider puntucation, grammer.\n",
    "        \n",
    "    If user posted \"course details please\" then the assistant should only respond with the value stored in \"few_shot_assistant_2\"\\\n",
    "    that is few_shot_assistant_2 = Did you attend our free webinar? and should NOT respond anything like 'I'm sorry, I cannot provide the course details again. If you have any specific questions or need further information, feel free to ask!'\n",
    "        \n",
    "    If user posted \"No\" for the variable \"few_shot_user_3 then the assistant should only respond with the value stored in \"few_shot_assistant_3\"\\\n",
    "    that is few_shot_assistant_3 = \"How did you Know about us? Facebook,Instagram,Youtube\" and should not respond anything like \"Did you attend our free webinar?\"\n",
    "    \n",
    "    If user posted \"Facebook\" then the assistant should only respond with the value stored in \"few_shot_assistant_4\"\\\n",
    "    that is few_shot_assistant_4 = \"ok,I would like to know your name.\" and should NOT respond anything like \"How did you Know about us? Facebook,Instagram,Youtube\"\n",
    "    \n",
    "    If user posted \"Ramisha\" for few_shot_assistant_5 then the assistant should only respond with the value stored in \"few_shot_assistant_5\"\\\n",
    "    that is few_shot_assistant_5 = \"ok ,Ramisha, I request you to attend our free webinar. You will know about the syllabus, fee details, we provide support for 3 years, life time access and all other information about the course\", and should NOT respond \"Okay, Ramisha Rani, during the webinar, I mentioned that you should book a 1:1 call to discuss more about the course. If you encounter any issues while booking the slot, please let me know.\"\n",
    "    \n",
    "    If user posted \"Ramisha\" for few_shot_assistant_7 then the assistant should only respond with the value stored in \"few_shot_assistant_7\"\\\n",
    "    that is few_shot_assistant_7 = \"Okay, Ramisha Rani, during the webinar, I mentioned that you should book a 1:1 call to discuss more about the course. If you encounter any issues while booking the slot, please let me know.\"\n",
    "        \n",
    "    If user posted \"No\" for \"few_shot_user_8\" then the assistant should only respond with the value stored in \"few_shot_assistant_8\\\n",
    "    that is few_shot_assistant_8 = \"Then, Please book a call\"\n",
    "        \n",
    "    \"\"\"\n",
    "    \n",
    "    few_shot_assistant_1 = \"How can I help you?\"\n",
    "    \n",
    "    few_shot_assistant_2 = \"Did you attend our free webinar?\"\n",
    "    \n",
    "    few_shot_assistant_3 = \"How did you Know about us? Facebook,Instagram,Youtube\"\n",
    "    \n",
    "    few_shot_assistant_4 = \"ok,I would like to know your name.\"\n",
    "    \n",
    "    few_shot_assistant_5 = \"ok ,Ramisha, I request you to attend our free webinar. You will know about the syllabus, fee details, we provide support for 3 years, life time access and all other information about the course\"\n",
    "    \n",
    "    few_shot_assistant_6 = \"ok,I would like to know your name.\"\n",
    "    \n",
    "    few_shot_assistant_7 = \"Okay, Ramisha Rani, during the webinar, I mentioned that you should book a 1:1 call to discuss more about the course. If you encounter any issues while booking the slot, please let me know.\"\n",
    "    \n",
    "    few_shot_assistant_8 = \"Then, Please book a call\"\n",
    "    \n",
    "    few_shot_assistant_9 = \"Please share the issue you are facing\"\n",
    "    \n",
    "    few_shot_assistant_10 = \"Yes,we are providing\"\n",
    "    \n",
    "    few_shot_assistant_11 = \"Machine learning , Deep learning , Natural language processing , Time series analysis , and Generative AI\"\n",
    "    \n",
    "    few_shot_assistant_12 = \"Around 6 months. When you put 2 hours per day, you will complete the course\"\n",
    "    \n",
    "    few_shot_assistant_13 = \"This courses recorded\"\n",
    "    \n",
    "    few_shot_assistant_14 = \"We have a support team to clear doubts instantly\"\n",
    "    \n",
    "    few_shot_assistant_15 = \"Yes, we provide various payment plans\"\n",
    "    \n",
    "    few_shot_assistant_16 = \"Yes ,we provide course completion certificate\"\n",
    "    \n",
    "    few_shot_assistant_17 = \"Yes, our courses are accessible from outside India\"\n",
    "    \n",
    "    messages = [\n",
    "            {'role': 'system', 'content': system_message},\n",
    "            {'role': 'assistant', 'content': few_shot_assistant_1}\n",
    "             ]\n",
    "    \n",
    "    user_responses = [\n",
    "        (few_shot_assistant_1),\n",
    "        (few_shot_assistant_2),\n",
    "        (few_shot_assistant_3),\n",
    "        (few_shot_assistant_4),\n",
    "        (few_shot_assistant_5),\n",
    "        (few_shot_assistant_6),\n",
    "        (few_shot_assistant_7),\n",
    "        (few_shot_assistant_8),\n",
    "        (few_shot_assistant_9),\n",
    "        (few_shot_assistant_10),\n",
    "        (few_shot_assistant_11),\n",
    "        (few_shot_assistant_12),\n",
    "        (few_shot_assistant_13),\n",
    "        (few_shot_assistant_14),\n",
    "        (few_shot_assistant_15),\n",
    "        (few_shot_assistant_16),\n",
    "        (few_shot_assistant_17),\n",
    "        (user_input)\n",
    "        ]\n",
    "    \n",
    "    for assistant_response in user_responses:\n",
    "        if assistant_response:\n",
    "            if user_input.lower() == \"exit\":  # Check if user wants to exit\n",
    "                return\n",
    "            response = openai.Moderation.create(user_input)\n",
    "            moderation_output = response[\"results\"][0]\n",
    "            \n",
    "            if moderation_output[\"flagged\"]:\n",
    "                print(\"Input flagged by Moderation API.\")\n",
    "                return \"Sorry, we cannot process this request.\"\n",
    "\n",
    "            if debug: print(\"Input passed moderation check.\")\n",
    "                \n",
    "            messages.append({'role': 'user', 'content': f\"{delimiter}{user_input}{delimiter}\"})\n",
    "            messages.append({'role': 'assistant', 'content': assistant_response})\n",
    "            \n",
    "            response = openai.Moderation.create(input=assistant_response)\n",
    "            moderation_output = response[\"results\"][0]\n",
    "\n",
    "            if moderation_output[\"flagged\"]:\n",
    "                \n",
    "                if debug: print(\"Response flagged by Moderation API.\")\n",
    "                return \"Sorry, we cannot provide this information.\"\n",
    "\n",
    "            if debug: print(\"Response passed moderation check.\")\n",
    "\n",
    "            user_input = input(f\"{assistant_response}\\n\")\n",
    "                \n",
    "            if user_input.lower() == \"exit\":  # Check if user wants to exit after input\n",
    "                return\n",
    "    return (get_completion_from_messages(messages))"
   ]
  },
  {
   "cell_type": "code",
   "execution_count": 19,
   "id": "82273e92-7672-40a4-b1b6-0520f5175dc1",
   "metadata": {},
   "outputs": [
    {
     "name": "stdin",
     "output_type": "stream",
     "text": [
      " Hi\n"
     ]
    },
    {
     "name": "stdout",
     "output_type": "stream",
     "text": [
      "Input passed moderation check.\n",
      "Response passed moderation check.\n"
     ]
    },
    {
     "name": "stdin",
     "output_type": "stream",
     "text": [
      "How can I help you?\n",
      " Course detail please\n"
     ]
    },
    {
     "name": "stdout",
     "output_type": "stream",
     "text": [
      "Input passed moderation check.\n",
      "Response passed moderation check.\n"
     ]
    },
    {
     "name": "stdin",
     "output_type": "stream",
     "text": [
      "Did you attend our free webinar?\n",
      " No\n"
     ]
    },
    {
     "name": "stdout",
     "output_type": "stream",
     "text": [
      "Input passed moderation check.\n",
      "Response passed moderation check.\n"
     ]
    },
    {
     "name": "stdin",
     "output_type": "stream",
     "text": [
      "How did you Know about us? Facebook,Instagram,Youtube\n",
      " Facebook\n"
     ]
    },
    {
     "name": "stdout",
     "output_type": "stream",
     "text": [
      "Input passed moderation check.\n",
      "Response passed moderation check.\n"
     ]
    },
    {
     "name": "stdin",
     "output_type": "stream",
     "text": [
      "ok,I would like to know your name.\n",
      " Ramisha\n"
     ]
    },
    {
     "name": "stdout",
     "output_type": "stream",
     "text": [
      "Input passed moderation check.\n",
      "Response passed moderation check.\n"
     ]
    },
    {
     "name": "stdin",
     "output_type": "stream",
     "text": [
      "ok ,Ramisha, I request you to attend our free webinar. You will know about the syllabus, fee details, we provide support for 3 years, life time access and all other information about the course\n",
      " Yes,I watched webinar\n"
     ]
    },
    {
     "name": "stdout",
     "output_type": "stream",
     "text": [
      "Input passed moderation check.\n",
      "Response passed moderation check.\n"
     ]
    },
    {
     "name": "stdin",
     "output_type": "stream",
     "text": [
      "ok,I would like to know your name.\n",
      " Ramisha\n"
     ]
    },
    {
     "name": "stdout",
     "output_type": "stream",
     "text": [
      "Input passed moderation check.\n",
      "Response passed moderation check.\n"
     ]
    },
    {
     "name": "stdin",
     "output_type": "stream",
     "text": [
      "Okay, Ramisha Rani, during the webinar, I mentioned that you should book a 1:1 call to discuss more about the course. If you encounter any issues while booking the slot, please let me know.\n",
      " No\n"
     ]
    },
    {
     "name": "stdout",
     "output_type": "stream",
     "text": [
      "Input passed moderation check.\n",
      "Response passed moderation check.\n"
     ]
    },
    {
     "name": "stdin",
     "output_type": "stream",
     "text": [
      "Then, Please book a call\n",
      " Yes\n"
     ]
    },
    {
     "name": "stdout",
     "output_type": "stream",
     "text": [
      "Input passed moderation check.\n",
      "Response passed moderation check.\n"
     ]
    },
    {
     "name": "stdin",
     "output_type": "stream",
     "text": [
      "Please share the issue you are facing\n",
      " Do you provide placement assessment?\n"
     ]
    },
    {
     "name": "stdout",
     "output_type": "stream",
     "text": [
      "Input passed moderation check.\n",
      "Response passed moderation check.\n"
     ]
    },
    {
     "name": "stdin",
     "output_type": "stream",
     "text": [
      "Yes,we are providing\n",
      " What topics will you cover in the course?\n"
     ]
    },
    {
     "name": "stdout",
     "output_type": "stream",
     "text": [
      "Input passed moderation check.\n",
      "Response passed moderation check.\n"
     ]
    },
    {
     "name": "stdin",
     "output_type": "stream",
     "text": [
      "Machine learning , Deep learning , Natural language processing , Time series analysis , and Generative AI\n",
      " What is the duration to complete the course?\n"
     ]
    },
    {
     "name": "stdout",
     "output_type": "stream",
     "text": [
      "Input passed moderation check.\n",
      "Response passed moderation check.\n"
     ]
    },
    {
     "name": "stdin",
     "output_type": "stream",
     "text": [
      "Around 6 months. When you put 2 hours per day, you will complete the course\n",
      " Is this course recorded or conducted as live classes?\n"
     ]
    },
    {
     "name": "stdout",
     "output_type": "stream",
     "text": [
      "Input passed moderation check.\n",
      "Response passed moderation check.\n"
     ]
    },
    {
     "name": "stdin",
     "output_type": "stream",
     "text": [
      "This courses recorded\n",
      " How can I clarify my doubts?\n"
     ]
    },
    {
     "name": "stdout",
     "output_type": "stream",
     "text": [
      "Input passed moderation check.\n",
      "Response passed moderation check.\n"
     ]
    },
    {
     "name": "stdin",
     "output_type": "stream",
     "text": [
      "We have a support team to clear doubts instantly\n",
      " Do you offer flexible payment options?\n"
     ]
    },
    {
     "name": "stdout",
     "output_type": "stream",
     "text": [
      "Input passed moderation check.\n",
      "Response passed moderation check.\n"
     ]
    },
    {
     "name": "stdin",
     "output_type": "stream",
     "text": [
      "Yes, we provide various payment plans\n",
      " Will you issue a certificate after completing the course?\n"
     ]
    },
    {
     "name": "stdout",
     "output_type": "stream",
     "text": [
      "Input passed moderation check.\n",
      "Response passed moderation check.\n"
     ]
    },
    {
     "name": "stdin",
     "output_type": "stream",
     "text": [
      "Yes ,we provide course completion certificate\n",
      " Can we access the course from outside India?\n"
     ]
    },
    {
     "name": "stdout",
     "output_type": "stream",
     "text": [
      "Input passed moderation check.\n",
      "Response passed moderation check.\n"
     ]
    },
    {
     "name": "stdin",
     "output_type": "stream",
     "text": [
      "Yes, our courses are accessible from outside India\n",
      " exit\n"
     ]
    }
   ],
   "source": [
    "user_input = input()\n",
    "responses = LLM_response(user_input = user_input)\n",
    "responses "
   ]
  }
 ],
 "metadata": {
  "kernelspec": {
   "display_name": "Python 3 (ipykernel)",
   "language": "python",
   "name": "python3"
  },
  "language_info": {
   "codemirror_mode": {
    "name": "ipython",
    "version": 3
   },
   "file_extension": ".py",
   "mimetype": "text/x-python",
   "name": "python",
   "nbconvert_exporter": "python",
   "pygments_lexer": "ipython3",
   "version": "3.11.4"
  }
 },
 "nbformat": 4,
 "nbformat_minor": 5
}
